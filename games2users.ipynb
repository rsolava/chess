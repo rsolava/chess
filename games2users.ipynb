{
 "cells": [
  {
   "cell_type": "code",
   "execution_count": 1,
   "id": "6b2d3db0",
   "metadata": {},
   "outputs": [],
   "source": [
    "import pandas as pd\n",
    "\n",
    "import numpy as np\n",
    "\n",
    "\n",
    "import pickle"
   ]
  },
  {
   "cell_type": "code",
   "execution_count": 2,
   "id": "f77b317f",
   "metadata": {},
   "outputs": [],
   "source": [
    "games_df = pd.read_csv(\"game_data.csv\")"
   ]
  },
  {
   "cell_type": "code",
   "execution_count": 4,
   "id": "fb61f473",
   "metadata": {},
   "outputs": [
    {
     "data": {
      "text/html": [
       "<div>\n",
       "<style scoped>\n",
       "    .dataframe tbody tr th:only-of-type {\n",
       "        vertical-align: middle;\n",
       "    }\n",
       "\n",
       "    .dataframe tbody tr th {\n",
       "        vertical-align: top;\n",
       "    }\n",
       "\n",
       "    .dataframe thead th {\n",
       "        text-align: right;\n",
       "    }\n",
       "</style>\n",
       "<table border=\"1\" class=\"dataframe\">\n",
       "  <thead>\n",
       "    <tr style=\"text-align: right;\">\n",
       "      <th></th>\n",
       "      <th>WhiteElo</th>\n",
       "      <th>BlackElo</th>\n",
       "      <th>WhiteName</th>\n",
       "      <th>BlackName</th>\n",
       "      <th>Winner</th>\n",
       "      <th>Termination</th>\n",
       "      <th>Site</th>\n",
       "      <th>Day</th>\n",
       "      <th>Month</th>\n",
       "      <th>Year</th>\n",
       "      <th>InitialTime</th>\n",
       "      <th>Increment</th>\n",
       "      <th>TimeControl</th>\n",
       "      <th>Opening</th>\n",
       "      <th>ECO</th>\n",
       "      <th>Number_of_Moves</th>\n",
       "    </tr>\n",
       "  </thead>\n",
       "  <tbody>\n",
       "    <tr>\n",
       "      <th>0</th>\n",
       "      <td>1639</td>\n",
       "      <td>1403</td>\n",
       "      <td>BFG9k</td>\n",
       "      <td>mamalak</td>\n",
       "      <td>White</td>\n",
       "      <td>Normal</td>\n",
       "      <td>https://lichess.org/j1dkb5dw</td>\n",
       "      <td>31</td>\n",
       "      <td>12</td>\n",
       "      <td>2012</td>\n",
       "      <td>600</td>\n",
       "      <td>8</td>\n",
       "      <td>Rapid</td>\n",
       "      <td>French Defense: Normal Variation</td>\n",
       "      <td>C00</td>\n",
       "      <td>13</td>\n",
       "    </tr>\n",
       "    <tr>\n",
       "      <th>1</th>\n",
       "      <td>1654</td>\n",
       "      <td>1919</td>\n",
       "      <td>Desmond_Wilson</td>\n",
       "      <td>savinka59</td>\n",
       "      <td>White</td>\n",
       "      <td>Normal</td>\n",
       "      <td>https://lichess.org/a9tcp02g</td>\n",
       "      <td>31</td>\n",
       "      <td>12</td>\n",
       "      <td>2012</td>\n",
       "      <td>480</td>\n",
       "      <td>2</td>\n",
       "      <td>Rapid</td>\n",
       "      <td>Queen's Pawn Game: Colle System, Anti-Colle</td>\n",
       "      <td>D04</td>\n",
       "      <td>18</td>\n",
       "    </tr>\n",
       "    <tr>\n",
       "      <th>2</th>\n",
       "      <td>1643</td>\n",
       "      <td>1747</td>\n",
       "      <td>Kozakmamay007</td>\n",
       "      <td>VanillaShamanilla</td>\n",
       "      <td>White</td>\n",
       "      <td>Normal</td>\n",
       "      <td>https://lichess.org/szom2tog</td>\n",
       "      <td>31</td>\n",
       "      <td>12</td>\n",
       "      <td>2012</td>\n",
       "      <td>420</td>\n",
       "      <td>17</td>\n",
       "      <td>Rapid</td>\n",
       "      <td>Four Knights Game: Italian Variation</td>\n",
       "      <td>C50</td>\n",
       "      <td>11</td>\n",
       "    </tr>\n",
       "    <tr>\n",
       "      <th>3</th>\n",
       "      <td>1824</td>\n",
       "      <td>1973</td>\n",
       "      <td>Naitero_Nagasaki</td>\n",
       "      <td>800</td>\n",
       "      <td>Black</td>\n",
       "      <td>Normal</td>\n",
       "      <td>https://lichess.org/rklpc7mk</td>\n",
       "      <td>31</td>\n",
       "      <td>12</td>\n",
       "      <td>2012</td>\n",
       "      <td>60</td>\n",
       "      <td>1</td>\n",
       "      <td>Bullet</td>\n",
       "      <td>Caro-Kann Defense: Goldman Variation</td>\n",
       "      <td>B12</td>\n",
       "      <td>47</td>\n",
       "    </tr>\n",
       "    <tr>\n",
       "      <th>4</th>\n",
       "      <td>1765</td>\n",
       "      <td>1815</td>\n",
       "      <td>nichiren1967</td>\n",
       "      <td>Naitero_Nagasaki</td>\n",
       "      <td>Black</td>\n",
       "      <td>Normal</td>\n",
       "      <td>https://lichess.org/1xb3os63</td>\n",
       "      <td>31</td>\n",
       "      <td>12</td>\n",
       "      <td>2012</td>\n",
       "      <td>60</td>\n",
       "      <td>1</td>\n",
       "      <td>Bullet</td>\n",
       "      <td>French Defense: La Bourdonnais Variation</td>\n",
       "      <td>C00</td>\n",
       "      <td>23</td>\n",
       "    </tr>\n",
       "  </tbody>\n",
       "</table>\n",
       "</div>"
      ],
      "text/plain": [
       "   WhiteElo  BlackElo         WhiteName          BlackName Winner Termination  \\\n",
       "0      1639      1403             BFG9k            mamalak  White      Normal   \n",
       "1      1654      1919    Desmond_Wilson          savinka59  White      Normal   \n",
       "2      1643      1747     Kozakmamay007  VanillaShamanilla  White      Normal   \n",
       "3      1824      1973  Naitero_Nagasaki                800  Black      Normal   \n",
       "4      1765      1815      nichiren1967   Naitero_Nagasaki  Black      Normal   \n",
       "\n",
       "                           Site  Day  Month  Year  InitialTime  Increment  \\\n",
       "0  https://lichess.org/j1dkb5dw   31     12  2012          600          8   \n",
       "1  https://lichess.org/a9tcp02g   31     12  2012          480          2   \n",
       "2  https://lichess.org/szom2tog   31     12  2012          420         17   \n",
       "3  https://lichess.org/rklpc7mk   31     12  2012           60          1   \n",
       "4  https://lichess.org/1xb3os63   31     12  2012           60          1   \n",
       "\n",
       "  TimeControl                                      Opening  ECO  \\\n",
       "0       Rapid             French Defense: Normal Variation  C00   \n",
       "1       Rapid  Queen's Pawn Game: Colle System, Anti-Colle  D04   \n",
       "2       Rapid         Four Knights Game: Italian Variation  C50   \n",
       "3      Bullet         Caro-Kann Defense: Goldman Variation  B12   \n",
       "4      Bullet     French Defense: La Bourdonnais Variation  C00   \n",
       "\n",
       "   Number_of_Moves  \n",
       "0               13  \n",
       "1               18  \n",
       "2               11  \n",
       "3               47  \n",
       "4               23  "
      ]
     },
     "execution_count": 4,
     "metadata": {},
     "output_type": "execute_result"
    }
   ],
   "source": [
    "games_df.head()"
   ]
  },
  {
   "cell_type": "code",
   "execution_count": 5,
   "id": "b76d40f1",
   "metadata": {},
   "outputs": [
    {
     "data": {
      "text/plain": [
       "(14918230, 16)"
      ]
     },
     "execution_count": 5,
     "metadata": {},
     "output_type": "execute_result"
    }
   ],
   "source": [
    "games_df.shape"
   ]
  },
  {
   "cell_type": "code",
   "execution_count": 13,
   "id": "2a586daa",
   "metadata": {},
   "outputs": [
    {
     "data": {
      "text/plain": [
       "Blitz        6007902\n",
       "Rapid        4358458\n",
       "Bullet       4242183\n",
       "Classical     309687\n",
       "Name: TimeControl, dtype: int64"
      ]
     },
     "execution_count": 13,
     "metadata": {},
     "output_type": "execute_result"
    }
   ],
   "source": [
    "games_df.TimeControl.value_counts()"
   ]
  },
  {
   "cell_type": "code",
   "execution_count": 19,
   "id": "cf494a00",
   "metadata": {},
   "outputs": [
    {
     "data": {
      "text/plain": [
       "(115886,)"
      ]
     },
     "execution_count": 19,
     "metadata": {},
     "output_type": "execute_result"
    }
   ],
   "source": [
    "games_df[games_df.TimeControl==\"Rapid\"].WhiteName.unique().shape"
   ]
  },
  {
   "cell_type": "code",
   "execution_count": 20,
   "id": "f3a287b2",
   "metadata": {},
   "outputs": [
    {
     "data": {
      "text/plain": [
       "(126237,)"
      ]
     },
     "execution_count": 20,
     "metadata": {},
     "output_type": "execute_result"
    }
   ],
   "source": [
    "games_df[games_df.TimeControl==\"Rapid\"].BlackName.unique().shape"
   ]
  },
  {
   "cell_type": "code",
   "execution_count": 32,
   "id": "4e4556fd",
   "metadata": {},
   "outputs": [],
   "source": [
    "rapid_users = pd.concat((pd.Series(games_df[games_df.TimeControl==\"Rapid\"].BlackName.unique()),\n",
    "                          pd.Series(games_df[games_df.TimeControl==\"Rapid\"].WhiteName.unique())))"
   ]
  },
  {
   "cell_type": "code",
   "execution_count": 38,
   "id": "3dcccd45",
   "metadata": {},
   "outputs": [],
   "source": [
    "rapid_users = rapid_users.drop_duplicates()"
   ]
  },
  {
   "cell_type": "code",
   "execution_count": 6,
   "id": "6d38a315",
   "metadata": {},
   "outputs": [],
   "source": [
    "all_users = pd.concat((pd.Series(games_df.BlackName.unique()),\n",
    "                          pd.Series(games_df.WhiteName.unique())))"
   ]
  },
  {
   "cell_type": "code",
   "execution_count": 9,
   "id": "25ad174a",
   "metadata": {},
   "outputs": [
    {
     "data": {
      "text/plain": [
       "(241692,)"
      ]
     },
     "execution_count": 9,
     "metadata": {},
     "output_type": "execute_result"
    }
   ],
   "source": [
    "all_users = all_users.drop_duplicates()\n",
    "all_users.shape"
   ]
  },
  {
   "cell_type": "code",
   "execution_count": 11,
   "id": "05bbaee6",
   "metadata": {},
   "outputs": [
    {
     "data": {
      "text/plain": [
       "(1000,)"
      ]
     },
     "execution_count": 11,
     "metadata": {},
     "output_type": "execute_result"
    }
   ],
   "source": [
    "sample_all = all_users.sample(1000).reset_index(drop=True)\n",
    "sample_all.shape"
   ]
  },
  {
   "cell_type": "code",
   "execution_count": 13,
   "id": "e0516ac6",
   "metadata": {},
   "outputs": [
    {
     "name": "stdout",
     "output_type": "stream",
     "text": [
      "0.0 %\n",
      "10.0 %\n",
      "20.0 %\n",
      "30.0 %\n",
      "40.0 %\n",
      "50.0 %\n",
      "60.0 %\n",
      "70.0 %\n",
      "80.0 %\n",
      "90.0 %\n"
     ]
    }
   ],
   "source": [
    "mask = pd.Series(len(games_df)*[False])\n",
    "\n",
    "for i in range(len(sample_all)):\n",
    "    if i % 100 == 0:\n",
    "        print(i/len(sample_all)*100, \"%\")\n",
    "    mask |= games_df.WhiteName == sample_all[i] \n",
    "    mask |= games_df.BlackName == sample_all[i]\n"
   ]
  },
  {
   "cell_type": "code",
   "execution_count": 58,
   "id": "3c2689ad",
   "metadata": {},
   "outputs": [],
   "source": [
    "sg_df = games_df[mask]"
   ]
  },
  {
   "cell_type": "code",
   "execution_count": 59,
   "id": "7aa6edff",
   "metadata": {},
   "outputs": [
    {
     "data": {
      "text/plain": [
       "(96643, 16)"
      ]
     },
     "execution_count": 59,
     "metadata": {},
     "output_type": "execute_result"
    }
   ],
   "source": [
    "sg_df.shape"
   ]
  },
  {
   "cell_type": "code",
   "execution_count": 16,
   "id": "3f21ab7e",
   "metadata": {},
   "outputs": [],
   "source": [
    "sg_df.to_csv(\"sample_games_all.csv\")"
   ]
  },
  {
   "cell_type": "code",
   "execution_count": 18,
   "id": "ae99ef3c",
   "metadata": {},
   "outputs": [],
   "source": [
    "user_df = pd.DataFrame({\"Name\":sample_all, \n",
    "                        \"Num games\":sample_all.apply(\n",
    "                            lambda x: ((sg_df.WhiteName == x) | (sg_df.BlackName == x)).sum())\n",
    "                       })"
   ]
  },
  {
   "cell_type": "code",
   "execution_count": 69,
   "id": "504b7bae",
   "metadata": {},
   "outputs": [],
   "source": [
    "umd = {x: ((sg_df.WhiteName == x) | (sg_df.BlackName == x)) for x in sample_all}"
   ]
  },
  {
   "cell_type": "code",
   "execution_count": 75,
   "id": "12f195ea",
   "metadata": {},
   "outputs": [
    {
     "name": "stderr",
     "output_type": "stream",
     "text": [
      "<ipython-input-75-4422f7ee2d55>:1: SettingWithCopyWarning: \n",
      "A value is trying to be set on a copy of a slice from a DataFrame.\n",
      "Try using .loc[row_indexer,col_indexer] = value instead\n",
      "\n",
      "See the caveats in the documentation: https://pandas.pydata.org/pandas-docs/stable/user_guide/indexing.html#returning-a-view-versus-a-copy\n",
      "  sg_df[\"Date\"] = pd.to_datetime(sg_df[[\"Day\",\"Month\",\"Year\"]])\n"
     ]
    }
   ],
   "source": [
    "sg_df[\"Date\"] = pd.to_datetime(sg_df[[\"Day\",\"Month\",\"Year\"]])"
   ]
  },
  {
   "cell_type": "code",
   "execution_count": 25,
   "id": "5afaf9c4",
   "metadata": {},
   "outputs": [],
   "source": [
    "user_df[\"Start Date\"] = sample_all.apply(lambda x : sg_df[user_mask_dict[x]].Date.min())"
   ]
  },
  {
   "cell_type": "code",
   "execution_count": 27,
   "id": "d2a11081",
   "metadata": {},
   "outputs": [],
   "source": [
    "user_df[\"End Date\"] = sample_all.apply(lambda x : sg_df[user_mask_dict[x]].Date.max())"
   ]
  },
  {
   "cell_type": "code",
   "execution_count": 29,
   "id": "8d1d76c7",
   "metadata": {},
   "outputs": [],
   "source": [
    "user_df[\"Num sessions\"] = sample_all.apply(lambda x: sg_df[user_mask_dict[x]].Date.nunique())"
   ]
  },
  {
   "cell_type": "code",
   "execution_count": 35,
   "id": "780c2b8a",
   "metadata": {},
   "outputs": [
    {
     "data": {
      "text/plain": [
       "107"
      ]
     },
     "execution_count": 35,
     "metadata": {},
     "output_type": "execute_result"
    }
   ],
   "source": []
  },
  {
   "cell_type": "code",
   "execution_count": 37,
   "id": "99c6aa7d",
   "metadata": {},
   "outputs": [],
   "source": [
    "bmd = {x:(sg_df.BlackName == x) for x in sample_all}\n",
    "wmd = {x:(sg_df.WhiteName == x) for x in sample_all}"
   ]
  },
  {
   "cell_type": "code",
   "execution_count": 38,
   "id": "7237058e",
   "metadata": {},
   "outputs": [],
   "source": [
    "user_df[\"Black wins\"] = sample_all.apply(lambda x : (bmd[x] & (sg_df.Winner == \"Black\")).sum())"
   ]
  },
  {
   "cell_type": "code",
   "execution_count": 39,
   "id": "d7d57301",
   "metadata": {},
   "outputs": [],
   "source": [
    "user_df[\"Black losses\"] = sample_all.apply(lambda x : (bmd[x] & (sg_df.Winner == \"White\")).sum())"
   ]
  },
  {
   "cell_type": "code",
   "execution_count": 40,
   "id": "5894d6ae",
   "metadata": {},
   "outputs": [],
   "source": [
    "user_df[\"Black draws\"] = sample_all.apply(lambda x : (bmd[x] & (sg_df.Winner == \"Draw\")).sum())"
   ]
  },
  {
   "cell_type": "code",
   "execution_count": 41,
   "id": "22c1d59f",
   "metadata": {},
   "outputs": [],
   "source": [
    "user_df[\"White wins\"] = sample_all.apply(lambda x : (wmd[x] & (sg_df.Winner == \"Black\")).sum())\n",
    "user_df[\"White losses\"] = sample_all.apply(lambda x : (wmd[x] & (sg_df.Winner == \"White\")).sum())\n",
    "user_df[\"White draws\"] = sample_all.apply(lambda x : (wmd[x] & (sg_df.Winner == \"Draw\")).sum())"
   ]
  },
  {
   "cell_type": "code",
   "execution_count": 46,
   "id": "cdbfb3d2",
   "metadata": {},
   "outputs": [
    {
     "data": {
      "text/html": [
       "<div>\n",
       "<style scoped>\n",
       "    .dataframe tbody tr th:only-of-type {\n",
       "        vertical-align: middle;\n",
       "    }\n",
       "\n",
       "    .dataframe tbody tr th {\n",
       "        vertical-align: top;\n",
       "    }\n",
       "\n",
       "    .dataframe thead th {\n",
       "        text-align: right;\n",
       "    }\n",
       "</style>\n",
       "<table border=\"1\" class=\"dataframe\">\n",
       "  <thead>\n",
       "    <tr style=\"text-align: right;\">\n",
       "      <th></th>\n",
       "      <th>Name</th>\n",
       "      <th>Num games</th>\n",
       "      <th>Start Date</th>\n",
       "      <th>End Date</th>\n",
       "      <th>Num sessions</th>\n",
       "      <th>Black wins</th>\n",
       "      <th>Black losses</th>\n",
       "      <th>Black draws</th>\n",
       "      <th>White wins</th>\n",
       "      <th>White losses</th>\n",
       "      <th>White draws</th>\n",
       "    </tr>\n",
       "  </thead>\n",
       "  <tbody>\n",
       "    <tr>\n",
       "      <th>688</th>\n",
       "      <td>JustGame</td>\n",
       "      <td>2</td>\n",
       "      <td>2014-12-20</td>\n",
       "      <td>2014-12-20</td>\n",
       "      <td>1</td>\n",
       "      <td>1</td>\n",
       "      <td>0</td>\n",
       "      <td>0</td>\n",
       "      <td>0</td>\n",
       "      <td>1</td>\n",
       "      <td>0</td>\n",
       "    </tr>\n",
       "    <tr>\n",
       "      <th>373</th>\n",
       "      <td>India_Madein</td>\n",
       "      <td>5</td>\n",
       "      <td>2014-07-23</td>\n",
       "      <td>2014-07-23</td>\n",
       "      <td>1</td>\n",
       "      <td>1</td>\n",
       "      <td>1</td>\n",
       "      <td>0</td>\n",
       "      <td>2</td>\n",
       "      <td>1</td>\n",
       "      <td>0</td>\n",
       "    </tr>\n",
       "    <tr>\n",
       "      <th>408</th>\n",
       "      <td>IVANFFFFFF</td>\n",
       "      <td>2</td>\n",
       "      <td>2014-07-01</td>\n",
       "      <td>2014-07-01</td>\n",
       "      <td>1</td>\n",
       "      <td>0</td>\n",
       "      <td>1</td>\n",
       "      <td>0</td>\n",
       "      <td>1</td>\n",
       "      <td>0</td>\n",
       "      <td>0</td>\n",
       "    </tr>\n",
       "    <tr>\n",
       "      <th>616</th>\n",
       "      <td>ir1</td>\n",
       "      <td>1</td>\n",
       "      <td>2013-06-12</td>\n",
       "      <td>2013-06-12</td>\n",
       "      <td>1</td>\n",
       "      <td>0</td>\n",
       "      <td>1</td>\n",
       "      <td>0</td>\n",
       "      <td>0</td>\n",
       "      <td>0</td>\n",
       "      <td>0</td>\n",
       "    </tr>\n",
       "    <tr>\n",
       "      <th>919</th>\n",
       "      <td>ZssZii</td>\n",
       "      <td>3</td>\n",
       "      <td>2014-08-12</td>\n",
       "      <td>2014-08-12</td>\n",
       "      <td>1</td>\n",
       "      <td>2</td>\n",
       "      <td>0</td>\n",
       "      <td>0</td>\n",
       "      <td>0</td>\n",
       "      <td>1</td>\n",
       "      <td>0</td>\n",
       "    </tr>\n",
       "    <tr>\n",
       "      <th>979</th>\n",
       "      <td>Klavierkabarett</td>\n",
       "      <td>1</td>\n",
       "      <td>2013-08-29</td>\n",
       "      <td>2013-08-29</td>\n",
       "      <td>1</td>\n",
       "      <td>0</td>\n",
       "      <td>1</td>\n",
       "      <td>0</td>\n",
       "      <td>0</td>\n",
       "      <td>0</td>\n",
       "      <td>0</td>\n",
       "    </tr>\n",
       "    <tr>\n",
       "      <th>473</th>\n",
       "      <td>kerbook</td>\n",
       "      <td>1</td>\n",
       "      <td>2014-02-04</td>\n",
       "      <td>2014-02-04</td>\n",
       "      <td>1</td>\n",
       "      <td>0</td>\n",
       "      <td>1</td>\n",
       "      <td>0</td>\n",
       "      <td>0</td>\n",
       "      <td>0</td>\n",
       "      <td>0</td>\n",
       "    </tr>\n",
       "    <tr>\n",
       "      <th>602</th>\n",
       "      <td>Afterimage</td>\n",
       "      <td>710</td>\n",
       "      <td>2013-09-07</td>\n",
       "      <td>2014-10-06</td>\n",
       "      <td>81</td>\n",
       "      <td>210</td>\n",
       "      <td>192</td>\n",
       "      <td>10</td>\n",
       "      <td>144</td>\n",
       "      <td>144</td>\n",
       "      <td>10</td>\n",
       "    </tr>\n",
       "    <tr>\n",
       "      <th>549</th>\n",
       "      <td>IvanDmC</td>\n",
       "      <td>2</td>\n",
       "      <td>2014-06-07</td>\n",
       "      <td>2014-06-07</td>\n",
       "      <td>1</td>\n",
       "      <td>0</td>\n",
       "      <td>1</td>\n",
       "      <td>0</td>\n",
       "      <td>1</td>\n",
       "      <td>0</td>\n",
       "      <td>0</td>\n",
       "    </tr>\n",
       "    <tr>\n",
       "      <th>116</th>\n",
       "      <td>proust1810</td>\n",
       "      <td>17</td>\n",
       "      <td>2013-12-18</td>\n",
       "      <td>2013-12-20</td>\n",
       "      <td>3</td>\n",
       "      <td>0</td>\n",
       "      <td>7</td>\n",
       "      <td>1</td>\n",
       "      <td>6</td>\n",
       "      <td>3</td>\n",
       "      <td>0</td>\n",
       "    </tr>\n",
       "  </tbody>\n",
       "</table>\n",
       "</div>"
      ],
      "text/plain": [
       "                Name  Num games Start Date   End Date  Num sessions  \\\n",
       "688         JustGame          2 2014-12-20 2014-12-20             1   \n",
       "373     India_Madein          5 2014-07-23 2014-07-23             1   \n",
       "408       IVANFFFFFF          2 2014-07-01 2014-07-01             1   \n",
       "616              ir1          1 2013-06-12 2013-06-12             1   \n",
       "919           ZssZii          3 2014-08-12 2014-08-12             1   \n",
       "979  Klavierkabarett          1 2013-08-29 2013-08-29             1   \n",
       "473          kerbook          1 2014-02-04 2014-02-04             1   \n",
       "602       Afterimage        710 2013-09-07 2014-10-06            81   \n",
       "549          IvanDmC          2 2014-06-07 2014-06-07             1   \n",
       "116       proust1810         17 2013-12-18 2013-12-20             3   \n",
       "\n",
       "     Black wins  Black losses  Black draws  White wins  White losses  \\\n",
       "688           1             0            0           0             1   \n",
       "373           1             1            0           2             1   \n",
       "408           0             1            0           1             0   \n",
       "616           0             1            0           0             0   \n",
       "919           2             0            0           0             1   \n",
       "979           0             1            0           0             0   \n",
       "473           0             1            0           0             0   \n",
       "602         210           192           10         144           144   \n",
       "549           0             1            0           1             0   \n",
       "116           0             7            1           6             3   \n",
       "\n",
       "     White draws  \n",
       "688            0  \n",
       "373            0  \n",
       "408            0  \n",
       "616            0  \n",
       "919            0  \n",
       "979            0  \n",
       "473            0  \n",
       "602           10  \n",
       "549            0  \n",
       "116            0  "
      ]
     },
     "execution_count": 46,
     "metadata": {},
     "output_type": "execute_result"
    }
   ],
   "source": [
    "user_df.sample(10)"
   ]
  },
  {
   "cell_type": "code",
   "execution_count": 47,
   "id": "d58c68e4",
   "metadata": {},
   "outputs": [],
   "source": [
    "user_df.to_csv(\"user_data.csv\")"
   ]
  },
  {
   "cell_type": "code",
   "execution_count": 44,
   "id": "5de7397b",
   "metadata": {},
   "outputs": [
    {
     "data": {
      "text/plain": [
       "0"
      ]
     },
     "execution_count": 44,
     "metadata": {},
     "output_type": "execute_result"
    }
   ],
   "source": [
    "in_both = sg_df.WhiteName.apply(lambda x: x in sample_all ) & sg_df.BlackName.apply(lambda x: x in sample_all)\n",
    "\n"
   ]
  },
  {
   "cell_type": "code",
   "execution_count": 148,
   "id": "4269ac2f",
   "metadata": {},
   "outputs": [],
   "source": [
    "#Do this in excel\n",
    "\n",
    "#user_df[\"Wins\"] = user_df[\"Black wins\"] + user_df[\"White wins\"]\n",
    "#user_df[\"Losses\"] = user_df[\"Black losses\"] + user_df[\"White losses\"]\n",
    "#user_df[\"Draws\"] = user_df[\"Black draws\"] + user_df[\"White draws\"]"
   ]
  },
  {
   "cell_type": "code",
   "execution_count": 157,
   "id": "21f31ed1",
   "metadata": {},
   "outputs": [
    {
     "name": "stderr",
     "output_type": "stream",
     "text": [
      "<ipython-input-157-86799e55265e>:1: SettingWithCopyWarning: \n",
      "A value is trying to be set on a copy of a slice from a DataFrame.\n",
      "Try using .loc[row_indexer,col_indexer] = value instead\n",
      "\n",
      "See the caveats in the documentation: https://pandas.pydata.org/pandas-docs/stable/user_guide/indexing.html#returning-a-view-versus-a-copy\n",
      "  sg_df[\"EloDiff\"] = sg_df[\"WhiteElo\"] - sg_df[\"BlackElo\"]\n"
     ]
    }
   ],
   "source": [
    "#sg_df[\"EloDiff\"] = sg_df[\"WhiteElo\"] - sg_df[\"BlackElo\"]"
   ]
  },
  {
   "cell_type": "code",
   "execution_count": null,
   "id": "8288a615",
   "metadata": {},
   "outputs": [],
   "source": [
    "#user_df.to_csv(\"sample_user_data_rapid.csv\")"
   ]
  },
  {
   "cell_type": "code",
   "execution_count": 159,
   "id": "385d007a",
   "metadata": {},
   "outputs": [],
   "source": [
    "#umd = user_mask_dict"
   ]
  },
  {
   "cell_type": "code",
   "execution_count": 162,
   "id": "bfa6d1f0",
   "metadata": {},
   "outputs": [],
   "source": [
    "#test_user = \"radaam\""
   ]
  },
  {
   "cell_type": "code",
   "execution_count": 182,
   "id": "a1084526",
   "metadata": {},
   "outputs": [],
   "source": [
    "def first_game_info(x):\n",
    "    game1 = sg_df[umd[x]].sort_values(\"Date\").head(1).reset_index(drop=True)\n",
    "\n",
    "    if game1.WhiteName[0] == x:\n",
    "        color1 = \"White\"\n",
    "    else:\n",
    "        color1 = \"Black\"\n",
    "    \n",
    "    if game1.Winner[0] == \"Draw\":\n",
    "        result1 = \"Draw\"\n",
    "    elif game1.Winner[0] == color1:\n",
    "        result1 = \"Win\"\n",
    "    else:\n",
    "        result1 = \"Loss\"\n",
    "    \n",
    "    if color1 == \"White\":\n",
    "        elodiff1 = game1.EloDiff[0]\n",
    "    else:\n",
    "        elodiff1 = -1*game1.EloDiff[0]\n",
    "    \n",
    "    return (x, color1, result1, elodiff1)\n",
    "\n",
    "columns = [\"Name\", \"First Color\", \"First Result\", \"First Elo Diff\"]\n",
    "game1_series = user_df.Name.apply(first_game_info)\n",
    "\n",
    "first_df = pd.DataFrame([[t[0],t[1],t[2],t[3]] for t in game1_series.values], columns = columns)"
   ]
  },
  {
   "cell_type": "code",
   "execution_count": 183,
   "id": "47186641",
   "metadata": {},
   "outputs": [
    {
     "data": {
      "text/html": [
       "<div>\n",
       "<style scoped>\n",
       "    .dataframe tbody tr th:only-of-type {\n",
       "        vertical-align: middle;\n",
       "    }\n",
       "\n",
       "    .dataframe tbody tr th {\n",
       "        vertical-align: top;\n",
       "    }\n",
       "\n",
       "    .dataframe thead th {\n",
       "        text-align: right;\n",
       "    }\n",
       "</style>\n",
       "<table border=\"1\" class=\"dataframe\">\n",
       "  <thead>\n",
       "    <tr style=\"text-align: right;\">\n",
       "      <th></th>\n",
       "      <th>Name</th>\n",
       "      <th>First Color</th>\n",
       "      <th>First Result</th>\n",
       "      <th>First Elo Diff</th>\n",
       "    </tr>\n",
       "  </thead>\n",
       "  <tbody>\n",
       "    <tr>\n",
       "      <th>0</th>\n",
       "      <td>tseref</td>\n",
       "      <td>Black</td>\n",
       "      <td>Loss</td>\n",
       "      <td>-238</td>\n",
       "    </tr>\n",
       "    <tr>\n",
       "      <th>1</th>\n",
       "      <td>kanon2</td>\n",
       "      <td>Black</td>\n",
       "      <td>Win</td>\n",
       "      <td>-221</td>\n",
       "    </tr>\n",
       "    <tr>\n",
       "      <th>2</th>\n",
       "      <td>Velocity99</td>\n",
       "      <td>Black</td>\n",
       "      <td>Loss</td>\n",
       "      <td>-113</td>\n",
       "    </tr>\n",
       "    <tr>\n",
       "      <th>3</th>\n",
       "      <td>RajaNarendra</td>\n",
       "      <td>Black</td>\n",
       "      <td>Loss</td>\n",
       "      <td>-53</td>\n",
       "    </tr>\n",
       "    <tr>\n",
       "      <th>4</th>\n",
       "      <td>ji419</td>\n",
       "      <td>Black</td>\n",
       "      <td>Loss</td>\n",
       "      <td>-62</td>\n",
       "    </tr>\n",
       "  </tbody>\n",
       "</table>\n",
       "</div>"
      ],
      "text/plain": [
       "           Name First Color First Result  First Elo Diff\n",
       "0        tseref       Black         Loss            -238\n",
       "1        kanon2       Black          Win            -221\n",
       "2    Velocity99       Black         Loss            -113\n",
       "3  RajaNarendra       Black         Loss             -53\n",
       "4         ji419       Black         Loss             -62"
      ]
     },
     "execution_count": 183,
     "metadata": {},
     "output_type": "execute_result"
    }
   ],
   "source": [
    "first_df.head()"
   ]
  },
  {
   "cell_type": "code",
   "execution_count": 185,
   "id": "6659058c",
   "metadata": {},
   "outputs": [],
   "source": [
    "df = user_df.join(first_df.set_index(\"Name\"), on=\"Name\")"
   ]
  },
  {
   "cell_type": "code",
   "execution_count": 186,
   "id": "499a4928",
   "metadata": {},
   "outputs": [
    {
     "data": {
      "text/html": [
       "<div>\n",
       "<style scoped>\n",
       "    .dataframe tbody tr th:only-of-type {\n",
       "        vertical-align: middle;\n",
       "    }\n",
       "\n",
       "    .dataframe tbody tr th {\n",
       "        vertical-align: top;\n",
       "    }\n",
       "\n",
       "    .dataframe thead th {\n",
       "        text-align: right;\n",
       "    }\n",
       "</style>\n",
       "<table border=\"1\" class=\"dataframe\">\n",
       "  <thead>\n",
       "    <tr style=\"text-align: right;\">\n",
       "      <th></th>\n",
       "      <th>Name</th>\n",
       "      <th>Num games</th>\n",
       "      <th>Start Date</th>\n",
       "      <th>End Date</th>\n",
       "      <th>Days between</th>\n",
       "      <th>Black wins</th>\n",
       "      <th>Black losses</th>\n",
       "      <th>Black draws</th>\n",
       "      <th>White wins</th>\n",
       "      <th>White losses</th>\n",
       "      <th>White draws</th>\n",
       "      <th>Wins</th>\n",
       "      <th>Losses</th>\n",
       "      <th>Draws</th>\n",
       "      <th>First Color</th>\n",
       "      <th>First Result</th>\n",
       "      <th>First Elo Diff</th>\n",
       "    </tr>\n",
       "  </thead>\n",
       "  <tbody>\n",
       "    <tr>\n",
       "      <th>0</th>\n",
       "      <td>tseref</td>\n",
       "      <td>1</td>\n",
       "      <td>2013-09-23</td>\n",
       "      <td>2013-09-23</td>\n",
       "      <td>0 days</td>\n",
       "      <td>0</td>\n",
       "      <td>1</td>\n",
       "      <td>0</td>\n",
       "      <td>0</td>\n",
       "      <td>0</td>\n",
       "      <td>0</td>\n",
       "      <td>0</td>\n",
       "      <td>1</td>\n",
       "      <td>0</td>\n",
       "      <td>Black</td>\n",
       "      <td>Loss</td>\n",
       "      <td>-238</td>\n",
       "    </tr>\n",
       "    <tr>\n",
       "      <th>1</th>\n",
       "      <td>kanon2</td>\n",
       "      <td>31</td>\n",
       "      <td>2014-07-13</td>\n",
       "      <td>2014-07-13</td>\n",
       "      <td>0 days</td>\n",
       "      <td>5</td>\n",
       "      <td>13</td>\n",
       "      <td>0</td>\n",
       "      <td>6</td>\n",
       "      <td>7</td>\n",
       "      <td>0</td>\n",
       "      <td>11</td>\n",
       "      <td>20</td>\n",
       "      <td>0</td>\n",
       "      <td>Black</td>\n",
       "      <td>Win</td>\n",
       "      <td>-221</td>\n",
       "    </tr>\n",
       "    <tr>\n",
       "      <th>2</th>\n",
       "      <td>Velocity99</td>\n",
       "      <td>1</td>\n",
       "      <td>2014-09-07</td>\n",
       "      <td>2014-09-07</td>\n",
       "      <td>0 days</td>\n",
       "      <td>0</td>\n",
       "      <td>1</td>\n",
       "      <td>0</td>\n",
       "      <td>0</td>\n",
       "      <td>0</td>\n",
       "      <td>0</td>\n",
       "      <td>0</td>\n",
       "      <td>1</td>\n",
       "      <td>0</td>\n",
       "      <td>Black</td>\n",
       "      <td>Loss</td>\n",
       "      <td>-113</td>\n",
       "    </tr>\n",
       "    <tr>\n",
       "      <th>3</th>\n",
       "      <td>RajaNarendra</td>\n",
       "      <td>3</td>\n",
       "      <td>2014-03-25</td>\n",
       "      <td>2014-04-10</td>\n",
       "      <td>16 days</td>\n",
       "      <td>0</td>\n",
       "      <td>2</td>\n",
       "      <td>0</td>\n",
       "      <td>1</td>\n",
       "      <td>0</td>\n",
       "      <td>0</td>\n",
       "      <td>1</td>\n",
       "      <td>2</td>\n",
       "      <td>0</td>\n",
       "      <td>Black</td>\n",
       "      <td>Loss</td>\n",
       "      <td>-53</td>\n",
       "    </tr>\n",
       "    <tr>\n",
       "      <th>4</th>\n",
       "      <td>ji419</td>\n",
       "      <td>1</td>\n",
       "      <td>2014-06-11</td>\n",
       "      <td>2014-06-11</td>\n",
       "      <td>0 days</td>\n",
       "      <td>0</td>\n",
       "      <td>1</td>\n",
       "      <td>0</td>\n",
       "      <td>0</td>\n",
       "      <td>0</td>\n",
       "      <td>0</td>\n",
       "      <td>0</td>\n",
       "      <td>1</td>\n",
       "      <td>0</td>\n",
       "      <td>Black</td>\n",
       "      <td>Loss</td>\n",
       "      <td>-62</td>\n",
       "    </tr>\n",
       "  </tbody>\n",
       "</table>\n",
       "</div>"
      ],
      "text/plain": [
       "           Name  Num games Start Date   End Date Days between  Black wins  \\\n",
       "0        tseref          1 2013-09-23 2013-09-23       0 days           0   \n",
       "1        kanon2         31 2014-07-13 2014-07-13       0 days           5   \n",
       "2    Velocity99          1 2014-09-07 2014-09-07       0 days           0   \n",
       "3  RajaNarendra          3 2014-03-25 2014-04-10      16 days           0   \n",
       "4         ji419          1 2014-06-11 2014-06-11       0 days           0   \n",
       "\n",
       "   Black losses  Black draws  White wins  White losses  White draws  Wins  \\\n",
       "0             1            0           0             0            0     0   \n",
       "1            13            0           6             7            0    11   \n",
       "2             1            0           0             0            0     0   \n",
       "3             2            0           1             0            0     1   \n",
       "4             1            0           0             0            0     0   \n",
       "\n",
       "   Losses  Draws First Color First Result  First Elo Diff  \n",
       "0       1      0       Black         Loss            -238  \n",
       "1      20      0       Black          Win            -221  \n",
       "2       1      0       Black         Loss            -113  \n",
       "3       2      0       Black         Loss             -53  \n",
       "4       1      0       Black         Loss             -62  "
      ]
     },
     "execution_count": 186,
     "metadata": {},
     "output_type": "execute_result"
    }
   ],
   "source": [
    "df.head()"
   ]
  },
  {
   "cell_type": "code",
   "execution_count": 187,
   "id": "807e0b15",
   "metadata": {},
   "outputs": [],
   "source": [
    "df.to_csv(\"rapid_users.csv\")"
   ]
  },
  {
   "cell_type": "markdown",
   "id": "6984bc90",
   "metadata": {},
   "source": [
    "Modify the games data frame so that it is centered on our user from our sample. In terms of them."
   ]
  },
  {
   "cell_type": "code",
   "execution_count": 54,
   "id": "9c66001d",
   "metadata": {},
   "outputs": [
    {
     "name": "stderr",
     "output_type": "stream",
     "text": [
      "<ipython-input-54-63514c2f07e2>:10: SettingWithCopyWarning: \n",
      "A value is trying to be set on a copy of a slice from a DataFrame.\n",
      "Try using .loc[row_indexer,col_indexer] = value instead\n",
      "\n",
      "See the caveats in the documentation: https://pandas.pydata.org/pandas-docs/stable/user_guide/indexing.html#returning-a-view-versus-a-copy\n",
      "  sg_df[\"Player name\"] = sg_df.apply(get_name, axis=1)\n"
     ]
    }
   ],
   "source": [
    "#Player name, Opponent, Result, Player ELO \n",
    "#Opponent ELO, first game?, final game?, first session?, final session?\n",
    "\n",
    "#def get_name(row):\n",
    "#    if row[\"WhiteName\"] = sample_all:\n",
    "#        return row[\"WhiteName\"]\n",
    "#    else:\n",
    "#        return row[\"BlackName\"]\n",
    "\n",
    "#sg_df[\"Player name\"] = sg_df.apply(get_name, axis=1)"
   ]
  },
  {
   "cell_type": "code",
   "execution_count": 72,
   "id": "1698a6fd",
   "metadata": {},
   "outputs": [
    {
     "data": {
      "text/html": [
       "<div>\n",
       "<style scoped>\n",
       "    .dataframe tbody tr th:only-of-type {\n",
       "        vertical-align: middle;\n",
       "    }\n",
       "\n",
       "    .dataframe tbody tr th {\n",
       "        vertical-align: top;\n",
       "    }\n",
       "\n",
       "    .dataframe thead th {\n",
       "        text-align: right;\n",
       "    }\n",
       "</style>\n",
       "<table border=\"1\" class=\"dataframe\">\n",
       "  <thead>\n",
       "    <tr style=\"text-align: right;\">\n",
       "      <th></th>\n",
       "      <th>WhiteElo</th>\n",
       "      <th>BlackElo</th>\n",
       "      <th>WhiteName</th>\n",
       "      <th>BlackName</th>\n",
       "      <th>Winner</th>\n",
       "      <th>Termination</th>\n",
       "      <th>Site</th>\n",
       "      <th>Day</th>\n",
       "      <th>Month</th>\n",
       "      <th>Year</th>\n",
       "      <th>InitialTime</th>\n",
       "      <th>Increment</th>\n",
       "      <th>TimeControl</th>\n",
       "      <th>Opening</th>\n",
       "      <th>ECO</th>\n",
       "      <th>Number_of_Moves</th>\n",
       "    </tr>\n",
       "  </thead>\n",
       "  <tbody>\n",
       "    <tr>\n",
       "      <th>938</th>\n",
       "      <td>1756</td>\n",
       "      <td>1741</td>\n",
       "      <td>traker100</td>\n",
       "      <td>ptdhina</td>\n",
       "      <td>White</td>\n",
       "      <td>Time forfeit</td>\n",
       "      <td>https://lichess.org/4zu4576l</td>\n",
       "      <td>1</td>\n",
       "      <td>1</td>\n",
       "      <td>2013</td>\n",
       "      <td>240</td>\n",
       "      <td>0</td>\n",
       "      <td>Blitz</td>\n",
       "      <td>Queen's Gambit Declined</td>\n",
       "      <td>D30</td>\n",
       "      <td>26</td>\n",
       "    </tr>\n",
       "    <tr>\n",
       "      <th>943</th>\n",
       "      <td>1766</td>\n",
       "      <td>1555</td>\n",
       "      <td>traker100</td>\n",
       "      <td>akayhan</td>\n",
       "      <td>White</td>\n",
       "      <td>Time forfeit</td>\n",
       "      <td>https://lichess.org/oqqk548g</td>\n",
       "      <td>1</td>\n",
       "      <td>1</td>\n",
       "      <td>2013</td>\n",
       "      <td>240</td>\n",
       "      <td>0</td>\n",
       "      <td>Blitz</td>\n",
       "      <td>Queen's Gambit Accepted: Saduleto Variation</td>\n",
       "      <td>D20</td>\n",
       "      <td>35</td>\n",
       "    </tr>\n",
       "    <tr>\n",
       "      <th>963</th>\n",
       "      <td>1772</td>\n",
       "      <td>1630</td>\n",
       "      <td>traker100</td>\n",
       "      <td>flatron1</td>\n",
       "      <td>White</td>\n",
       "      <td>Normal</td>\n",
       "      <td>https://lichess.org/2nx8xdle</td>\n",
       "      <td>1</td>\n",
       "      <td>1</td>\n",
       "      <td>2013</td>\n",
       "      <td>240</td>\n",
       "      <td>0</td>\n",
       "      <td>Blitz</td>\n",
       "      <td>Queen's Gambit Declined</td>\n",
       "      <td>D30</td>\n",
       "      <td>58</td>\n",
       "    </tr>\n",
       "    <tr>\n",
       "      <th>992</th>\n",
       "      <td>1778</td>\n",
       "      <td>1672</td>\n",
       "      <td>traker100</td>\n",
       "      <td>sempes</td>\n",
       "      <td>White</td>\n",
       "      <td>Normal</td>\n",
       "      <td>https://lichess.org/9d0ytl2q</td>\n",
       "      <td>1</td>\n",
       "      <td>1</td>\n",
       "      <td>2013</td>\n",
       "      <td>240</td>\n",
       "      <td>0</td>\n",
       "      <td>Blitz</td>\n",
       "      <td>Queen's Gambit Accepted: Saduleto Variation</td>\n",
       "      <td>D20</td>\n",
       "      <td>25</td>\n",
       "    </tr>\n",
       "    <tr>\n",
       "      <th>1011</th>\n",
       "      <td>1786</td>\n",
       "      <td>1630</td>\n",
       "      <td>traker100</td>\n",
       "      <td>Alex911</td>\n",
       "      <td>Black</td>\n",
       "      <td>Normal</td>\n",
       "      <td>https://lichess.org/nt4otgpt</td>\n",
       "      <td>1</td>\n",
       "      <td>1</td>\n",
       "      <td>2013</td>\n",
       "      <td>240</td>\n",
       "      <td>0</td>\n",
       "      <td>Blitz</td>\n",
       "      <td>Queen's Gambit Refused: Marshall Defense</td>\n",
       "      <td>D06</td>\n",
       "      <td>60</td>\n",
       "    </tr>\n",
       "  </tbody>\n",
       "</table>\n",
       "</div>"
      ],
      "text/plain": [
       "      WhiteElo  BlackElo  WhiteName BlackName Winner   Termination  \\\n",
       "938       1756      1741  traker100   ptdhina  White  Time forfeit   \n",
       "943       1766      1555  traker100   akayhan  White  Time forfeit   \n",
       "963       1772      1630  traker100  flatron1  White        Normal   \n",
       "992       1778      1672  traker100    sempes  White        Normal   \n",
       "1011      1786      1630  traker100   Alex911  Black        Normal   \n",
       "\n",
       "                              Site  Day  Month  Year  InitialTime  Increment  \\\n",
       "938   https://lichess.org/4zu4576l    1      1  2013          240          0   \n",
       "943   https://lichess.org/oqqk548g    1      1  2013          240          0   \n",
       "963   https://lichess.org/2nx8xdle    1      1  2013          240          0   \n",
       "992   https://lichess.org/9d0ytl2q    1      1  2013          240          0   \n",
       "1011  https://lichess.org/nt4otgpt    1      1  2013          240          0   \n",
       "\n",
       "     TimeControl                                      Opening  ECO  \\\n",
       "938        Blitz                      Queen's Gambit Declined  D30   \n",
       "943        Blitz  Queen's Gambit Accepted: Saduleto Variation  D20   \n",
       "963        Blitz                      Queen's Gambit Declined  D30   \n",
       "992        Blitz  Queen's Gambit Accepted: Saduleto Variation  D20   \n",
       "1011       Blitz     Queen's Gambit Refused: Marshall Defense  D06   \n",
       "\n",
       "      Number_of_Moves  \n",
       "938                26  \n",
       "943                35  \n",
       "963                58  \n",
       "992                25  \n",
       "1011               60  "
      ]
     },
     "execution_count": 72,
     "metadata": {},
     "output_type": "execute_result"
    }
   ],
   "source": [
    "sg_df.head()"
   ]
  },
  {
   "cell_type": "code",
   "execution_count": 117,
   "id": "d8486106",
   "metadata": {},
   "outputs": [],
   "source": [
    "def get_row(old_row):\n",
    "    new_row = []\n",
    "    new_row.append(user)\n",
    "    if old_row.WhiteName == user:\n",
    "        new_row.append(old_row.BlackName)\n",
    "        new_row.append(\"White\")\n",
    "        new_row.append(old_row.WhiteElo)\n",
    "        new_row.append(old_row.BlackElo)\n",
    "    else:\n",
    "        new_row.append(old_row.WhiteName)\n",
    "        new_row.append(\"Black\")\n",
    "        new_row.append(old_row.BlackElo)\n",
    "        new_row.append(old_row.WhiteElo)\n",
    "    if old_row.Winner == \"Draw\":\n",
    "        new_row.append(\"Draw\")\n",
    "    elif old_row.Winner == new_row[2]:\n",
    "        new_row.append(\"Win\")\n",
    "    else:\n",
    "        new_row.append(\"Loss\")\n",
    "    \n",
    "    return new_row\n",
    "\n",
    "keeping_columns = [\"Termination\", \"Date\", \"InitialTime\", \"Increment\", \"TimeControl\",\"Opening\", \"ECO\",\"Number_of_Moves\"]\n",
    "new_columns = [\"Player\",\"Opponent\",\"Color\", \"PlayerElo\",\"OpponentElo\",\"Result\"]\n",
    "\n",
    "ug_df = pd.DataFrame(columns = new_columns + keeping_columns)\n",
    "for user in sample_all:\n",
    "    games = sg_df[umd[user]]\n",
    "    rows = games.apply(get_row, axis=1)\n",
    "    \n",
    "    df_temp = pd.merge(pd.DataFrame(list(rows),columns = new_columns),games.reset_index()[keeping_columns],left_index=True,right_index=True)\n",
    "    ug_df = pd.concat((ug_df,df_temp))\n",
    "    \n"
   ]
  },
  {
   "cell_type": "code",
   "execution_count": 119,
   "id": "37ab2208",
   "metadata": {},
   "outputs": [],
   "source": [
    "ug_df.to_csv(\"user_games_all.csv\")"
   ]
  },
  {
   "cell_type": "code",
   "execution_count": null,
   "id": "01f1da41",
   "metadata": {},
   "outputs": [],
   "source": []
  }
 ],
 "metadata": {
  "kernelspec": {
   "display_name": "Python 3",
   "language": "python",
   "name": "python3"
  },
  "language_info": {
   "codemirror_mode": {
    "name": "ipython",
    "version": 3
   },
   "file_extension": ".py",
   "mimetype": "text/x-python",
   "name": "python",
   "nbconvert_exporter": "python",
   "pygments_lexer": "ipython3",
   "version": "3.8.8"
  }
 },
 "nbformat": 4,
 "nbformat_minor": 5
}
